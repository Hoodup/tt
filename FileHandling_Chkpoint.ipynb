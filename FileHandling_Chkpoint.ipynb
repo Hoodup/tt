{
  "cells": [
    {
      "cell_type": "markdown",
      "metadata": {
        "id": "view-in-github",
        "colab_type": "text"
      },
      "source": [
        "<a href=\"https://colab.research.google.com/github/Hoodup/tt/blob/main/FileHandling_Chkpoint.ipynb\" target=\"_parent\"><img src=\"https://colab.research.google.com/assets/colab-badge.svg\" alt=\"Open In Colab\"/></a>"
      ]
    },
    {
      "cell_type": "markdown",
      "id": "17de1d48-b2cc-4b1d-b89c-c4ffcdaa0968",
      "metadata": {
        "id": "17de1d48-b2cc-4b1d-b89c-c4ffcdaa0968"
      },
      "source": [
        "\n",
        "\n",
        "# Instructions\n",
        "\n",
        "\n",
        "\n",
        "- ###### Begin by importing the necessary libraries, numpy.\n",
        "- ###### Use the open() function to open csv file and assign the result to a variable.\n",
        "- ###### Use the numpy array to perform some basic statistical analysis on the data, such as finding the mean, median, and standard deviation of the loan amounts.\n",
        "- ###### Note:\n",
        "- ######\n",
        "- ###### Be sure to close the file after you have finished reading it in with the open() function.\n",
        "- ###### Use the delimiter parameter in the genfromtxt() function to specify that the values in the file are separated by commas.\n",
        "- ###### You can use the numpy functions mean(), median(), and std() to find the mean, median, and standard deviation of the loan amounts."
      ]
    },
    {
      "cell_type": "code",
      "execution_count": null,
      "id": "f74117e7-523e-4ec1-acd6-a6c567d5857c",
      "metadata": {
        "id": "f74117e7-523e-4ec1-acd6-a6c567d5857c"
      },
      "outputs": [],
      "source": [
        "import numpy as np\n",
        "import pandas as pd"
      ]
    },
    {
      "cell_type": "code",
      "execution_count": null,
      "id": "476b314a-3e9f-4fde-b713-8e035cd4bf3c",
      "metadata": {
        "colab": {
          "base_uri": "https://localhost:8080/",
          "height": 211
        },
        "id": "476b314a-3e9f-4fde-b713-8e035cd4bf3c",
        "outputId": "d0ec0a8b-f1e3-4de9-a44c-3c8a6ae03642"
      },
      "outputs": [
        {
          "output_type": "error",
          "ename": "FileNotFoundError",
          "evalue": "[Errno 2] No such file or directory: 'https://drive.google.com/file/d/16RjrvW2NG8Rt0AbblsflA8iJdxSXfl5C/view'",
          "traceback": [
            "\u001b[0;31m---------------------------------------------------------------------------\u001b[0m",
            "\u001b[0;31mFileNotFoundError\u001b[0m                         Traceback (most recent call last)",
            "\u001b[0;32m<ipython-input-1-06bf7a9b1191>\u001b[0m in \u001b[0;36m<cell line: 0>\u001b[0;34m()\u001b[0m\n\u001b[0;32m----> 1\u001b[0;31m \u001b[0;32mwith\u001b[0m \u001b[0mopen\u001b[0m\u001b[0;34m(\u001b[0m\u001b[0;34m'https://drive.google.com/file/d/16RjrvW2NG8Rt0AbblsflA8iJdxSXfl5C/view'\u001b[0m\u001b[0;34m)\u001b[0m \u001b[0;32mas\u001b[0m \u001b[0mloan_data\u001b[0m\u001b[0;34m:\u001b[0m\u001b[0;34m\u001b[0m\u001b[0;34m\u001b[0m\u001b[0m\n\u001b[0m\u001b[1;32m      2\u001b[0m     \u001b[0mread_data\u001b[0m \u001b[0;34m=\u001b[0m \u001b[0mloan_data\u001b[0m\u001b[0;34m.\u001b[0m\u001b[0mread\u001b[0m\u001b[0;34m(\u001b[0m\u001b[0;34m)\u001b[0m\u001b[0;34m\u001b[0m\u001b[0;34m\u001b[0m\u001b[0m\n",
            "\u001b[0;31mFileNotFoundError\u001b[0m: [Errno 2] No such file or directory: 'https://drive.google.com/file/d/16RjrvW2NG8Rt0AbblsflA8iJdxSXfl5C/view'"
          ]
        }
      ],
      "source": [
        "with open('Loan_prediction_dataset.csv') as loan_data:\n",
        "    read_data = loan_data.read()"
      ]
    },
    {
      "cell_type": "code",
      "execution_count": null,
      "id": "3600ed94-3c77-452b-94f0-c7c195e3c3c7",
      "metadata": {
        "colab": {
          "base_uri": "https://localhost:8080/",
          "height": 422
        },
        "id": "3600ed94-3c77-452b-94f0-c7c195e3c3c7",
        "outputId": "9a35d41b-73ab-497f-cf5e-4f2f4d1accbb"
      },
      "outputs": [
        {
          "output_type": "error",
          "ename": "ValueError",
          "evalue": "Some errors were detected !\n    Line #3 (got 2221 columns instead of 1)",
          "traceback": [
            "\u001b[0;31m---------------------------------------------------------------------------\u001b[0m",
            "\u001b[0;31mValueError\u001b[0m                                Traceback (most recent call last)",
            "\u001b[0;32m<ipython-input-4-6f90af00b12e>\u001b[0m in \u001b[0;36m<cell line: 0>\u001b[0;34m()\u001b[0m\n\u001b[0;32m----> 1\u001b[0;31m \u001b[0mnpd\u001b[0m \u001b[0;34m=\u001b[0m \u001b[0mnp\u001b[0m\u001b[0;34m.\u001b[0m\u001b[0mgenfromtxt\u001b[0m\u001b[0;34m(\u001b[0m\u001b[0;34m'https://drive.google.com/file/d/16RjrvW2NG8Rt0AbblsflA8iJdxSXfl5C/view'\u001b[0m\u001b[0;34m,\u001b[0m \u001b[0mdelimiter\u001b[0m\u001b[0;34m=\u001b[0m\u001b[0;34m','\u001b[0m\u001b[0;34m)\u001b[0m\u001b[0;34m\u001b[0m\u001b[0;34m\u001b[0m\u001b[0m\n\u001b[0m\u001b[1;32m      2\u001b[0m \u001b[0mnpd\u001b[0m\u001b[0;34m\u001b[0m\u001b[0;34m\u001b[0m\u001b[0m\n",
            "\u001b[0;32m/usr/local/lib/python3.11/dist-packages/numpy/lib/npyio.py\u001b[0m in \u001b[0;36mgenfromtxt\u001b[0;34m(fname, dtype, comments, delimiter, skip_header, skip_footer, converters, missing_values, filling_values, usecols, names, excludelist, deletechars, replace_space, autostrip, case_sensitive, defaultfmt, unpack, usemask, loose, invalid_raise, max_rows, encoding, ndmin, like)\u001b[0m\n\u001b[1;32m   2310\u001b[0m             \u001b[0;31m# Raise an exception ?\u001b[0m\u001b[0;34m\u001b[0m\u001b[0;34m\u001b[0m\u001b[0m\n\u001b[1;32m   2311\u001b[0m             \u001b[0;32mif\u001b[0m \u001b[0minvalid_raise\u001b[0m\u001b[0;34m:\u001b[0m\u001b[0;34m\u001b[0m\u001b[0;34m\u001b[0m\u001b[0m\n\u001b[0;32m-> 2312\u001b[0;31m                 \u001b[0;32mraise\u001b[0m \u001b[0mValueError\u001b[0m\u001b[0;34m(\u001b[0m\u001b[0merrmsg\u001b[0m\u001b[0;34m)\u001b[0m\u001b[0;34m\u001b[0m\u001b[0;34m\u001b[0m\u001b[0m\n\u001b[0m\u001b[1;32m   2313\u001b[0m             \u001b[0;31m# Issue a warning ?\u001b[0m\u001b[0;34m\u001b[0m\u001b[0;34m\u001b[0m\u001b[0m\n\u001b[1;32m   2314\u001b[0m             \u001b[0;32melse\u001b[0m\u001b[0;34m:\u001b[0m\u001b[0;34m\u001b[0m\u001b[0;34m\u001b[0m\u001b[0m\n",
            "\u001b[0;31mValueError\u001b[0m: Some errors were detected !\n    Line #3 (got 2221 columns instead of 1)"
          ]
        }
      ],
      "source": [
        "npd = np.genfromtxt('https://drive.google.com/file/d/16RjrvW2NG8Rt0AbblsflA8iJdxSXfl5C/view', delimiter=',')\n",
        "npd"
      ]
    },
    {
      "cell_type": "markdown",
      "id": "93a57e8c-3555-41b4-8e35-d864e29fc07a",
      "metadata": {
        "id": "93a57e8c-3555-41b4-8e35-d864e29fc07a"
      },
      "source": [
        "- ##### Extract the LoanAmount Column"
      ]
    },
    {
      "cell_type": "code",
      "execution_count": null,
      "id": "ba79b52b-1baa-4dbd-be2c-1654668bec3e",
      "metadata": {
        "id": "ba79b52b-1baa-4dbd-be2c-1654668bec3e",
        "outputId": "53666c20-de2a-4e38-b651-1476bf3e76f5"
      },
      "outputs": [
        {
          "data": {
            "text/plain": [
              "array([128.,  66., 120., 141., 267.,  95., 158., 168., 349.,  70., 109.,\n",
              "       200., 114.,  17., 125., 100.,  76., 133., 115., 104., 315., 116.,\n",
              "       112., 151., 191., 122., 110.,  35., 120., 201.,  74., 106., 114.,\n",
              "       320., 100., 144., 184., 110.,  80.,  47.,  75., 134.,  96.,  88.,\n",
              "        44., 144., 120., 144., 100., 120., 112., 134., 286.,  97.,  96.,\n",
              "       135., 180., 144., 120.,  99., 165., 116., 258., 126., 312., 125.,\n",
              "       136., 172.,  97.,  81.,  95., 187., 113., 176., 110., 180., 130.,\n",
              "       111., 167., 265.,  50., 136.,  99., 104., 210., 175., 131., 188.,\n",
              "        81., 122.,  25., 137.,  50., 115., 131., 133., 151., 160., 100.,\n",
              "       225., 120., 216.,  94., 136., 139., 152., 118., 185., 154.,  85.,\n",
              "       175., 259., 180.,  44., 137.,  81., 194.,  93., 370., 160., 182.,\n",
              "       650.,  74.,  70.,  25., 102., 290.,  84.,  88., 242., 129., 185.,\n",
              "       168., 175., 122., 187., 100.,  70.,  30., 225., 125., 118., 152.,\n",
              "       244., 113.,  50., 600., 160., 187., 120., 255.,  98., 275., 121.,\n",
              "       158.,  75., 182., 112., 129.,  63., 200.,  95., 700.,  81., 187.,\n",
              "        87., 116., 101., 495., 116., 102., 180.,  67.,  73., 260., 108.,\n",
              "       120.,  66.,  58., 168., 188.,  48., 164., 160.,  76., 120., 170.,\n",
              "       187., 120., 113.,  83.,  90., 166., 135., 124., 120.,  80.,  55.,\n",
              "        59., 127., 214., 128., 240., 130., 137., 100., 135., 131.,  72.,\n",
              "       127.,  60., 116., 144., 175., 128., 170., 138., 210., 158., 200.,\n",
              "       104.,  42., 120., 280., 140., 170., 255., 122., 112.,  96., 120.,\n",
              "       140., 155., 108., 123., 120., 112., 137., 123.,  90., 201., 138.,\n",
              "       104., 279., 192., 255., 115.,  94., 304., 128., 330., 134., 155.,\n",
              "       120., 128., 151., 150., 160., 135.,  90.,  30., 136., 126., 150.,\n",
              "        90., 115., 207.,  80., 436., 124., 158., 112.,  78.,  54.,  89.,\n",
              "        99., 120., 115., 187., 139., 127., 134., 143., 172., 110., 200.,\n",
              "       135., 151., 113.,  93., 105., 132.,  96., 140., 135., 104., 480.,\n",
              "       185.,  84., 111.,  56., 144., 159., 111., 120.,  88., 112., 155.,\n",
              "       115., 124., 132., 300., 376., 130., 184., 110.,  67., 117.,  98.,\n",
              "        71., 490., 182.,  70., 160., 176.,  71., 173.,  46., 158.,  74.,\n",
              "       125., 160., 152., 126., 259., 187., 228., 308.,  95., 105., 130.,\n",
              "       116., 165.,  67., 100., 200.,  81., 236., 130.,  95., 141., 133.,\n",
              "        96., 124., 175., 570.,  55., 155., 380., 111., 110., 120., 130.,\n",
              "       130.,  71., 130., 128., 296., 156., 128., 100., 113., 132., 136.,\n",
              "       125., 185., 275., 120., 113., 113., 135.,  71.,  95., 109., 103.,\n",
              "        45.,  65., 103.,  53., 194., 115., 115.,  66., 152., 360.,  62.,\n",
              "       160., 218., 110., 178.,  60., 160., 239., 112., 138., 138.,  80.,\n",
              "       100., 110.,  96., 121.,  81., 133.,  87.,  60., 150., 105., 405.,\n",
              "       143., 100.,  50., 187., 138., 187., 180., 148., 152., 175., 130.,\n",
              "       110.,  55., 150., 190., 125.,  60., 149.,  90.,  84.,  96., 118.,\n",
              "       173., 136., 160., 160., 128., 153., 132.,  98., 140.,  70., 110.,\n",
              "        98., 110., 162., 113., 100.,  93., 162., 150., 230., 132.,  86.,\n",
              "       154., 113., 128., 234., 246., 131.,  80., 500., 160.,  75.,  96.,\n",
              "       186., 110., 225., 119., 105., 107., 111.,  95., 209., 113., 100.,\n",
              "       208., 138., 124., 243., 480.,  96., 188.,  40., 100., 250., 148.,\n",
              "        70., 311., 150., 113., 123., 185.,  95.,  45.,  55., 100., 480.,\n",
              "       400., 110., 161.,  94., 130., 216., 100., 110., 196., 125., 126.,\n",
              "       324., 107.,  66., 157., 140.,  99.,  95., 128., 102., 155.,  80.,\n",
              "       145., 103., 110., 158., 181., 132.,  26.,  84., 260., 162., 182.,\n",
              "       108., 600., 211., 132., 258., 120.,  70., 123.,   9., 104., 186.,\n",
              "       165., 275., 187., 150., 108., 136., 110., 107., 161., 205.,  90.,\n",
              "        36.,  61., 146., 172., 104.,  70.,  94., 106.,  56., 205., 292.,\n",
              "       142., 260., 110., 187.,  88., 180., 192., 350., 155., 128., 172.,\n",
              "       496., 173., 157., 108.,  71.,  40., 253., 187., 133.])"
            ]
          },
          "execution_count": 120,
          "metadata": {},
          "output_type": "execute_result"
        }
      ],
      "source": [
        "LoanAmount = npd[:, 8]\n",
        "\n",
        "clean_loan_amount = np.array([i for i in LoanAmount if np.isnan(i) == False]) # Clear it off nan values\n",
        "clean_loan_amount"
      ]
    },
    {
      "cell_type": "markdown",
      "id": "7dc7594b-6c0f-4df2-ba6e-3eba9bbc8b9a",
      "metadata": {
        "id": "7dc7594b-6c0f-4df2-ba6e-3eba9bbc8b9a"
      },
      "source": [
        "- ##### Mean"
      ]
    },
    {
      "cell_type": "code",
      "execution_count": null,
      "id": "11fc9db9-765c-48f8-9f0b-e826951d6ecd",
      "metadata": {
        "id": "11fc9db9-765c-48f8-9f0b-e826951d6ecd",
        "outputId": "e5267d13-695e-42c3-c8e8-6386fb0b57a0"
      },
      "outputs": [
        {
          "data": {
            "text/plain": [
              "146.41216216216216"
            ]
          },
          "execution_count": 125,
          "metadata": {},
          "output_type": "execute_result"
        }
      ],
      "source": [
        "np.mean(clean_loan_amount)"
      ]
    },
    {
      "cell_type": "markdown",
      "id": "3163e0b8-6c6a-40a7-a441-07c8f5cdca78",
      "metadata": {
        "id": "3163e0b8-6c6a-40a7-a441-07c8f5cdca78"
      },
      "source": [
        "- ##### Median"
      ]
    },
    {
      "cell_type": "code",
      "execution_count": null,
      "id": "31dace16-bc3a-48e4-a492-b747934e38a6",
      "metadata": {
        "id": "31dace16-bc3a-48e4-a492-b747934e38a6",
        "outputId": "adbcd32e-2997-4fe8-fd22-ce61482f6d0c"
      },
      "outputs": [
        {
          "data": {
            "text/plain": [
              "128.0"
            ]
          },
          "execution_count": 127,
          "metadata": {},
          "output_type": "execute_result"
        }
      ],
      "source": [
        "np.median(clean_loan_amount)"
      ]
    },
    {
      "cell_type": "markdown",
      "id": "559a68b3-bd2a-41fa-aac8-40cf0370a364",
      "metadata": {
        "id": "559a68b3-bd2a-41fa-aac8-40cf0370a364"
      },
      "source": [
        "- ##### Standard Deviation"
      ]
    },
    {
      "cell_type": "code",
      "execution_count": null,
      "id": "ad4bbd02-5a46-44a6-9d64-9ed869d634ef",
      "metadata": {
        "id": "ad4bbd02-5a46-44a6-9d64-9ed869d634ef",
        "outputId": "e23eba68-69d7-4cd1-bb76-9bab0aa943aa"
      },
      "outputs": [
        {
          "data": {
            "text/plain": [
              "85.51500809120331"
            ]
          },
          "execution_count": 129,
          "metadata": {},
          "output_type": "execute_result"
        }
      ],
      "source": [
        "np.std(clean_loan_amount)"
      ]
    },
    {
      "cell_type": "code",
      "execution_count": null,
      "id": "e21b27a6-d167-41ff-864d-c71f6ecb83e2",
      "metadata": {
        "id": "e21b27a6-d167-41ff-864d-c71f6ecb83e2"
      },
      "outputs": [],
      "source": []
    }
  ],
  "metadata": {
    "kernelspec": {
      "display_name": "Python [conda env:base] *",
      "language": "python",
      "name": "conda-base-py"
    },
    "language_info": {
      "codemirror_mode": {
        "name": "ipython",
        "version": 3
      },
      "file_extension": ".py",
      "mimetype": "text/x-python",
      "name": "python",
      "nbconvert_exporter": "python",
      "pygments_lexer": "ipython3",
      "version": "3.12.7"
    },
    "colab": {
      "provenance": [],
      "include_colab_link": true
    }
  },
  "nbformat": 4,
  "nbformat_minor": 5
}