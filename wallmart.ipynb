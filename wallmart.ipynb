{
  "nbformat": 4,
  "nbformat_minor": 0,
  "metadata": {
    "colab": {
      "provenance": [],
      "authorship_tag": "ABX9TyMYkmdFxc0m3z/BBaq9z3wh",
      "include_colab_link": true
    },
    "kernelspec": {
      "name": "python3",
      "display_name": "Python 3"
    },
    "language_info": {
      "name": "python"
    }
  },
  "cells": [
    {
      "cell_type": "markdown",
      "metadata": {
        "id": "view-in-github",
        "colab_type": "text"
      },
      "source": [
        "<a href=\"https://colab.research.google.com/github/Hoodup/tt/blob/main/wallmart.ipynb\" target=\"_parent\"><img src=\"https://colab.research.google.com/assets/colab-badge.svg\" alt=\"Open In Colab\"/></a>"
      ]
    },
    {
      "cell_type": "code",
      "execution_count": 1,
      "metadata": {
        "id": "2OfhEqjTpQz2"
      },
      "outputs": [],
      "source": [
        "import pandas as pd\n",
        "import numpy as np\n",
        "import matplotlib.pyplot as plt\n",
        "import seaborn as sns\n",
        "\n",
        "\n",
        "import warnings\n",
        "warnings.filterwarnings('ignore')"
      ]
    },
    {
      "cell_type": "code",
      "source": [
        "df = pd.read_csv('/content/Walmart.csv')"
      ],
      "metadata": {
        "id": "P5vCE6QQpxv4"
      },
      "execution_count": null,
      "outputs": []
    },
    {
      "cell_type": "code",
      "source": [
        "df.head()"
      ],
      "metadata": {
        "id": "nqN18rHdp3gE"
      },
      "execution_count": null,
      "outputs": []
    },
    {
      "cell_type": "code",
      "source": [
        "df.info()"
      ],
      "metadata": {
        "id": "qhC9yA0Gp7hp"
      },
      "execution_count": null,
      "outputs": []
    },
    {
      "cell_type": "code",
      "source": [
        "df.isnull().sum()"
      ],
      "metadata": {
        "id": "3hhAxjD1qD7R"
      },
      "execution_count": null,
      "outputs": []
    },
    {
      "cell_type": "code",
      "source": [
        "# Data preprocessing\n",
        "df['Date'] = pd.to_datetime(df['Date'], format='%d-%m-%Y')\n",
        "df['Year'] = df['Date'].dt.year\n",
        "df['Month'] = df['Date'].dt.month"
      ],
      "metadata": {
        "id": "rwQBNdg6qE1-"
      },
      "execution_count": null,
      "outputs": []
    },
    {
      "cell_type": "code",
      "source": [
        "df.drop(columns=['Date'], inplace=True)"
      ],
      "metadata": {
        "id": "TcG-xNMNqJow"
      },
      "execution_count": null,
      "outputs": []
    },
    {
      "cell_type": "code",
      "source": [
        "df.head()"
      ],
      "metadata": {
        "id": "IubAO6K-qKjJ"
      },
      "execution_count": null,
      "outputs": []
    },
    {
      "cell_type": "code",
      "source": [
        "!pip install ydata_profiling"
      ],
      "metadata": {
        "id": "NDGnSPJKqM5M"
      },
      "execution_count": null,
      "outputs": []
    },
    {
      "cell_type": "code",
      "source": [
        "from ydata_profiling import ProfileReport"
      ],
      "metadata": {
        "id": "vuqDBlJWqURd"
      },
      "execution_count": null,
      "outputs": []
    },
    {
      "cell_type": "code",
      "source": [
        "Profile = ProfileReport(df, title = 'Walmart')\n",
        "Profile.to_notebook_iframe()"
      ],
      "metadata": {
        "id": "djfK_aBcqVFW"
      },
      "execution_count": null,
      "outputs": []
    },
    {
      "cell_type": "code",
      "source": [
        "df.describe()"
      ],
      "metadata": {
        "id": "qXdEgiXKqYYM"
      },
      "execution_count": null,
      "outputs": []
    },
    {
      "cell_type": "code",
      "source": [
        "plt.figure(figsize=(8, 5))\n",
        "sns.boxplot(x=df['Weekly_Sales'])\n",
        "plt.title('Outlier Visualization: Weekly Sales')\n",
        "plt.show()"
      ],
      "metadata": {
        "id": "UkLtxHd2qgbT"
      },
      "execution_count": null,
      "outputs": []
    },
    {
      "cell_type": "code",
      "source": [
        "# Outlier handling using IQR\n",
        "Q1 = df['Weekly_Sales'].quantile(0.25)\n",
        "Q3 = df['Weekly_Sales'].quantile(0.75)\n",
        "IQR = Q3 - Q1\n",
        "lower_bound = Q1 - 1.5 * IQR\n",
        "upper_bound = Q3 + 1.5 * IQR"
      ],
      "metadata": {
        "id": "I5Ue4fO_qj0J"
      },
      "execution_count": null,
      "outputs": []
    },
    {
      "cell_type": "code",
      "source": [
        "# Removing outliers\n",
        "df = df[(df['Weekly_Sales'] >= lower_bound) & (df['Weekly_Sales'] <= upper_bound)]"
      ],
      "metadata": {
        "id": "aQUFSKV7qmxK"
      },
      "execution_count": null,
      "outputs": []
    },
    {
      "cell_type": "code",
      "source": [
        "# Correlation heatmap\n",
        "plt.figure(figsize=(10, 6))\n",
        "sns.heatmap(df.corr(), annot=True, cmap='coolwarm', fmt='.2f')\n",
        "plt.title(\"Correlation Heatmap\")\n",
        "plt.show()"
      ],
      "metadata": {
        "id": "ukg6Cg64qqiF"
      },
      "execution_count": null,
      "outputs": []
    },
    {
      "cell_type": "code",
      "source": [
        "# Visualization: Weekly Sales by Year\n",
        "plt.figure(figsize=(10, 6))\n",
        "sns.boxplot(x='Year', y='Weekly_Sales', data=df)\n",
        "plt.title('Weekly Sales Distribution by Year')\n",
        "plt.show()"
      ],
      "metadata": {
        "id": "hs_v8gQmqrK-"
      },
      "execution_count": null,
      "outputs": []
    },
    {
      "cell_type": "code",
      "source": [
        "# SALES DISTRIBUTION ACROSS STORES\n",
        "\n",
        "# Group sales by store and sum them up\n",
        "store_sales = df.groupby('Store')['Weekly_Sales'].sum().sort_values()\n",
        "\n",
        "# Plot the bar chart\n",
        "plt.figure(figsize=(14, 6))\n",
        "sns.barplot(x=store_sales.index, y=store_sales.values, palette='viridis')\n",
        "\n",
        "# Labels and title\n",
        "plt.xlabel('Store ID')\n",
        "plt.ylabel('Total Weekly Sales ($)')\n",
        "plt.title('Total Weekly Sales per Store')\n",
        "plt.xticks(rotation=90)  # Rotate store labels for readability\n",
        "plt.show()"
      ],
      "metadata": {
        "id": "TUAuByLLqvks"
      },
      "execution_count": null,
      "outputs": []
    },
    {
      "cell_type": "code",
      "source": [
        "# Visualization: Impact of Holiday on Sales\n",
        "plt.figure(figsize=(8, 5))\n",
        "sns.boxplot(x='Holiday_Flag', y='Weekly_Sales', data=df)\n",
        "plt.title('Weekly Sales on Holiday vs. Non-Holiday Weeks')\n",
        "plt.show()"
      ],
      "metadata": {
        "id": "Jc3R4JVnqzO6"
      },
      "execution_count": null,
      "outputs": []
    },
    {
      "cell_type": "code",
      "source": [
        "# Time-Series Sales Trend\n",
        "\n",
        "df.groupby(['Year', 'Month'])['Weekly_Sales'].sum().plot(figsize=(12, 5))\n",
        "plt.xlabel('Year-Month')\n",
        "plt.ylabel('Total Weekly Sales')\n",
        "plt.title('Walmart Sales Trend Over Time')\n",
        "plt.show()"
      ],
      "metadata": {
        "id": "PTcUdDDQq43x"
      },
      "execution_count": null,
      "outputs": []
    },
    {
      "cell_type": "code",
      "source": [
        "from sklearn.model_selection import train_test_split\n",
        "\n",
        "# Splitting the dataset\n",
        "X = df[['Store', 'Holiday_Flag', 'Temperature', 'Fuel_Price', 'CPI', 'Unemployment', 'Year', 'Month']]\n",
        "y = df['Weekly_Sales']"
      ],
      "metadata": {
        "id": "86om9n9FrBkH"
      },
      "execution_count": null,
      "outputs": []
    },
    {
      "cell_type": "code",
      "source": [
        "X_train, X_test, y_train, y_test = train_test_split(X, y, test_size=0.2, random_state=42)"
      ],
      "metadata": {
        "id": "AA2KjUKrrFp3"
      },
      "execution_count": null,
      "outputs": []
    },
    {
      "cell_type": "code",
      "source": [
        "from sklearn.ensemble import RandomForestRegressor\n",
        "\n",
        "# Model training\n",
        "rf_model = RandomForestRegressor(n_estimators=100, random_state=42)\n",
        "rf_model.fit(X_train, y_train)"
      ],
      "metadata": {
        "id": "Opi0LEyOrIt2"
      },
      "execution_count": null,
      "outputs": []
    },
    {
      "cell_type": "code",
      "source": [
        "# Predictions\n",
        "y_pred_rf = rf_model.predict(X_test)"
      ],
      "metadata": {
        "id": "r9PpwJK_rMHT"
      },
      "execution_count": null,
      "outputs": []
    },
    {
      "cell_type": "code",
      "source": [
        "from sklearn.metrics import mean_absolute_error, mean_squared_error, r2_score\n",
        "\n",
        "# Evaluation\n",
        "mae_rf = mean_absolute_error(y_test, y_pred_rf)\n",
        "mse_rf = mean_squared_error(y_test, y_pred_rf)\n",
        "r2_rf = r2_score(y_test, y_pred_rf)"
      ],
      "metadata": {
        "id": "Omm9SlYPrRFB"
      },
      "execution_count": null,
      "outputs": []
    },
    {
      "cell_type": "code",
      "source": [
        "print(\"Random Forest Regressor Performance:\")\n",
        "print(f'MAE: {mae_rf:.2f}')\n",
        "print(f'MSE: {mse_rf:.2f}')\n",
        "print(f'R-squared: {r2_rf:.2f}')"
      ],
      "metadata": {
        "id": "ZE_BXVFmrRxi"
      },
      "execution_count": null,
      "outputs": []
    },
    {
      "cell_type": "code",
      "source": [
        "# Training Score vs Test Score\n",
        "\n",
        "print(\"Train Score vs Test Score\")\n",
        "\n",
        "train_score = rf_model.score(X_train, y_train)\n",
        "print(f\"Train Score: {train_score:.2f}\")\n",
        "\n",
        "test_score = rf_model.score(X_test, y_test)\n",
        "print(f\"Test Score: {test_score:.2f}\")"
      ],
      "metadata": {
        "id": "NiG8t06erUUZ"
      },
      "execution_count": null,
      "outputs": []
    },
    {
      "cell_type": "code",
      "source": [
        "# Assuming X_train and y_train are already defined\n",
        "# Train the model\n",
        "rf_model = RandomForestRegressor(n_estimators=100, random_state=42)\n",
        "rf_model.fit(X_train, y_train)\n",
        "\n",
        "# Get feature importance\n",
        "feature_importance = rf_model.feature_importances_\n",
        "\n",
        "# Create a DataFrame for visualization\n",
        "features = X_train.columns\n",
        "importance_df = pd.DataFrame({'Feature': features, 'Importance': feature_importance})\n",
        "importance_df = importance_df.sort_values(by='Importance', ascending=False)\n",
        "\n",
        "# Plot feature importance\n",
        "plt.figure(figsize=(10, 6))\n",
        "sns.barplot(x=importance_df['Importance'], y=importance_df['Feature'], palette='viridis')\n",
        "plt.xlabel('Feature Importance Score')\n",
        "plt.ylabel('Features')\n",
        "plt.title('Feature Importance Analysis')\n",
        "plt.show()\n"
      ],
      "metadata": {
        "id": "FeoGiosBrXXC"
      },
      "execution_count": null,
      "outputs": []
    },
    {
      "cell_type": "code",
      "source": [],
      "metadata": {
        "id": "ElcqcJmjrXPq"
      },
      "execution_count": null,
      "outputs": []
    }
  ]
}